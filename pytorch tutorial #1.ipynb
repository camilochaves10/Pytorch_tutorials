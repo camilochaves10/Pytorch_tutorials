{
 "cells": [
  {
   "cell_type": "code",
   "execution_count": 1,
   "id": "13507316",
   "metadata": {},
   "outputs": [],
   "source": [
    "import torch\n",
    "import numpy as np"
   ]
  },
  {
   "cell_type": "markdown",
   "id": "6299392c",
   "metadata": {},
   "source": [
    "<h1> Initializing a Tensor </h1>"
   ]
  },
  {
   "cell_type": "code",
   "execution_count": 2,
   "id": "2837c26f",
   "metadata": {},
   "outputs": [],
   "source": [
    "data = [[1,2], [3,4]]\n",
    "x_data = torch.tensor(data)"
   ]
  },
  {
   "cell_type": "code",
   "execution_count": 3,
   "id": "1c89f44f",
   "metadata": {},
   "outputs": [
    {
     "data": {
      "text/plain": [
       "tensor([[1, 2],\n",
       "        [3, 4]])"
      ]
     },
     "execution_count": 3,
     "metadata": {},
     "output_type": "execute_result"
    }
   ],
   "source": [
    "x_data"
   ]
  },
  {
   "cell_type": "code",
   "execution_count": 4,
   "id": "928aaf9a",
   "metadata": {},
   "outputs": [
    {
     "data": {
      "text/plain": [
       "torch.Tensor"
      ]
     },
     "execution_count": 4,
     "metadata": {},
     "output_type": "execute_result"
    }
   ],
   "source": [
    "type(x_data)"
   ]
  },
  {
   "cell_type": "markdown",
   "id": "59bddf89",
   "metadata": {},
   "source": [
    "<h1>From a numpy array </h1>"
   ]
  },
  {
   "cell_type": "code",
   "execution_count": 5,
   "id": "1ba3180e",
   "metadata": {},
   "outputs": [],
   "source": [
    "numparray = np.array(data)\n",
    "x_data = torch.from_numpy(numparray)"
   ]
  },
  {
   "cell_type": "code",
   "execution_count": 6,
   "id": "0a4190c5",
   "metadata": {},
   "outputs": [
    {
     "data": {
      "text/plain": [
       "tensor([[1, 2],\n",
       "        [3, 4]])"
      ]
     },
     "execution_count": 6,
     "metadata": {},
     "output_type": "execute_result"
    }
   ],
   "source": [
    "x_data"
   ]
  },
  {
   "cell_type": "code",
   "execution_count": 7,
   "id": "e789657a",
   "metadata": {},
   "outputs": [
    {
     "data": {
      "text/plain": [
       "torch.Tensor"
      ]
     },
     "execution_count": 7,
     "metadata": {},
     "output_type": "execute_result"
    }
   ],
   "source": [
    "type(x_data)"
   ]
  },
  {
   "cell_type": "markdown",
   "id": "b714db8c",
   "metadata": {},
   "source": [
    "<h1>From another Tensor</h1>"
   ]
  },
  {
   "cell_type": "code",
   "execution_count": 8,
   "id": "71057104",
   "metadata": {},
   "outputs": [],
   "source": [
    "x_ones = torch.ones_like(x_data)"
   ]
  },
  {
   "cell_type": "code",
   "execution_count": 9,
   "id": "a07efa83",
   "metadata": {},
   "outputs": [
    {
     "data": {
      "text/plain": [
       "tensor([[1, 1],\n",
       "        [1, 1]])"
      ]
     },
     "execution_count": 9,
     "metadata": {},
     "output_type": "execute_result"
    }
   ],
   "source": [
    "x_ones"
   ]
  },
  {
   "cell_type": "code",
   "execution_count": 10,
   "id": "79a04377",
   "metadata": {},
   "outputs": [
    {
     "data": {
      "text/plain": [
       "tensor([[0.7122, 0.5225],\n",
       "        [0.9063, 0.6349]])"
      ]
     },
     "execution_count": 10,
     "metadata": {},
     "output_type": "execute_result"
    }
   ],
   "source": [
    "x_rand = torch.rand_like(x_data, dtype = torch.float)\n",
    "x_rand"
   ]
  },
  {
   "cell_type": "code",
   "execution_count": 11,
   "id": "890e66a5",
   "metadata": {},
   "outputs": [
    {
     "data": {
      "text/plain": [
       "tensor([[0.0825, 0.0762, 0.3228],\n",
       "        [0.2774, 0.1603, 0.6299]])"
      ]
     },
     "execution_count": 11,
     "metadata": {},
     "output_type": "execute_result"
    }
   ],
   "source": [
    "shape = (2,3,) #tuple of tensor dimensions\n",
    "rand_tensor = torch.rand(shape)\n",
    "rand_tensor"
   ]
  },
  {
   "cell_type": "code",
   "execution_count": 12,
   "id": "6d28dd52",
   "metadata": {},
   "outputs": [
    {
     "data": {
      "text/plain": [
       "tensor([[1., 1., 1.],\n",
       "        [1., 1., 1.]])"
      ]
     },
     "execution_count": 12,
     "metadata": {},
     "output_type": "execute_result"
    }
   ],
   "source": [
    "one_tensor = torch.ones(shape)\n",
    "one_tensor\n"
   ]
  },
  {
   "cell_type": "markdown",
   "id": "97aa59bb",
   "metadata": {},
   "source": [
    "<h1>Attributes of a Tensor </h1>\n"
   ]
  },
  {
   "cell_type": "code",
   "execution_count": 13,
   "id": "90330c87",
   "metadata": {},
   "outputs": [
    {
     "name": "stdout",
     "output_type": "stream",
     "text": [
      "tensor([[0.8521, 0.0778, 0.6381, 0.2499],\n",
      "        [0.5865, 0.7928, 0.5715, 0.1043],\n",
      "        [0.4336, 0.7521, 0.2584, 0.6088]])\n",
      "\n",
      "tensor shape:torch.Size([3, 4])\n",
      "\n",
      "tensor device:cpu\n",
      "\n",
      "tensor dtype:torch.float32\n"
     ]
    }
   ],
   "source": [
    "tensor = torch.rand(3,4)\n",
    "print(tensor)\n",
    "print()\n",
    "print(f'tensor shape:{tensor.shape}')\n",
    "print()\n",
    "print(f'tensor device:{tensor.device}')\n",
    "print()\n",
    "print(f'tensor dtype:{tensor.dtype}')"
   ]
  },
  {
   "cell_type": "markdown",
   "id": "e6f36de2",
   "metadata": {},
   "source": [
    "<h1> Operations on Tensors </h1>"
   ]
  },
  {
   "cell_type": "code",
   "execution_count": 14,
   "id": "f1472f89",
   "metadata": {},
   "outputs": [],
   "source": [
    "if torch.cuda.is_available():\n",
    "    tensor = tensor.to('cuda')"
   ]
  },
  {
   "cell_type": "code",
   "execution_count": 15,
   "id": "9420e646",
   "metadata": {},
   "outputs": [
    {
     "name": "stdout",
     "output_type": "stream",
     "text": [
      "first row of:tensor([0.8521, 0.0778, 0.6381, 0.2499]) \n",
      "first column of: tensor([0.8521, 0.5865, 0.4336])\n",
      "last column of: tensor([0.2499, 0.1043, 0.6088]) \n"
     ]
    }
   ],
   "source": [
    "print(f'first row of:{tensor[0]} ')\n",
    "print(f'first column of: {tensor[:,0]}')\n",
    "print(f'last column of: {tensor[...,-1]} ')"
   ]
  },
  {
   "cell_type": "code",
   "execution_count": 16,
   "id": "47f74fb0",
   "metadata": {},
   "outputs": [
    {
     "data": {
      "text/plain": [
       "tensor([[ 0.8521,  0.0778,  0.6381, 69.0000],\n",
       "        [ 0.5865,  0.7928,  0.5715, 69.0000],\n",
       "        [ 0.4336,  0.7521,  0.2584, 69.0000]])"
      ]
     },
     "execution_count": 16,
     "metadata": {},
     "output_type": "execute_result"
    }
   ],
   "source": [
    "tensor[:,3] = 69\n",
    "tensor"
   ]
  },
  {
   "cell_type": "code",
   "execution_count": 17,
   "id": "b5f49cba",
   "metadata": {},
   "outputs": [
    {
     "data": {
      "text/plain": [
       "tensor([[ 0.8521,  0.0778,  0.6381, 69.0000,  0.8521,  0.0778,  0.6381, 69.0000,\n",
       "          0.8521,  0.0778,  0.6381, 69.0000],\n",
       "        [ 0.5865,  0.7928,  0.5715, 69.0000,  0.5865,  0.7928,  0.5715, 69.0000,\n",
       "          0.5865,  0.7928,  0.5715, 69.0000],\n",
       "        [ 0.4336,  0.7521,  0.2584, 69.0000,  0.4336,  0.7521,  0.2584, 69.0000,\n",
       "          0.4336,  0.7521,  0.2584, 69.0000]])"
      ]
     },
     "execution_count": 17,
     "metadata": {},
     "output_type": "execute_result"
    }
   ],
   "source": [
    "#Joining tensors \n",
    "t1 = torch.cat([tensor, tensor, tensor], dim = 1)\n",
    "t1"
   ]
  },
  {
   "cell_type": "code",
   "execution_count": 18,
   "id": "6cab7531",
   "metadata": {},
   "outputs": [],
   "source": [
    "#arithmetic operations"
   ]
  },
  {
   "cell_type": "markdown",
   "id": "8a8b1a77",
   "metadata": {},
   "source": [
    "<h1>Matrix Multiplication Between Two Tensors </h1>"
   ]
  },
  {
   "cell_type": "code",
   "execution_count": 22,
   "id": "2974832a",
   "metadata": {},
   "outputs": [
    {
     "data": {
      "text/plain": [
       "tensor([[14286.4170, 14285.7773, 14284.7783],\n",
       "        [14285.7773, 14286.8965, 14285.9941],\n",
       "        [14284.7783, 14285.9941, 14285.4600]])"
      ]
     },
     "execution_count": 22,
     "metadata": {},
     "output_type": "execute_result"
    }
   ],
   "source": [
    "y = t1@t1.T\n",
    "y"
   ]
  },
  {
   "cell_type": "code",
   "execution_count": 24,
   "id": "bdf2b792",
   "metadata": {},
   "outputs": [
    {
     "data": {
      "text/plain": [
       "tensor([[14286.4170, 14285.7773, 14284.7783],\n",
       "        [14285.7773, 14286.8965, 14285.9941],\n",
       "        [14284.7783, 14285.9941, 14285.4600]])"
      ]
     },
     "execution_count": 24,
     "metadata": {},
     "output_type": "execute_result"
    }
   ],
   "source": [
    "y2 = t1.matmul(t1.T)\n",
    "y2"
   ]
  },
  {
   "cell_type": "code",
   "execution_count": 26,
   "id": "dd2aee75",
   "metadata": {},
   "outputs": [
    {
     "name": "stderr",
     "output_type": "stream",
     "text": [
      "<ipython-input-26-6ef1ffc71fc9>:2: UserWarning: An output with one or more elements was resized since it had shape [3, 12], which does not match the required output shape [3, 3].This behavior is deprecated, and in a future PyTorch release outputs will not be resized unless they have zero elements. You can explicitly reuse an out tensor t by resizing it, inplace, to zero elements with t.resize_(0). (Triggered internally at  /Users/distiller/project/conda/conda-bld/pytorch_1634272482218/work/aten/src/ATen/native/Resize.cpp:23.)\n",
      "  torch.matmul(t1, t1.T, out = y3)\n"
     ]
    },
    {
     "data": {
      "text/plain": [
       "tensor([[14286.4170, 14285.7773, 14284.7783],\n",
       "        [14285.7773, 14286.8965, 14285.9941],\n",
       "        [14284.7783, 14285.9941, 14285.4600]])"
      ]
     },
     "execution_count": 26,
     "metadata": {},
     "output_type": "execute_result"
    }
   ],
   "source": [
    "y3 = torch.rand_like(t1)\n",
    "torch.matmul(t1, t1.T, out = y3)\n",
    "y3"
   ]
  },
  {
   "cell_type": "markdown",
   "id": "8ebe8690",
   "metadata": {},
   "source": [
    "<h1>Element-Wise Product</h1>"
   ]
  },
  {
   "cell_type": "code",
   "execution_count": 27,
   "id": "4cb7ce17",
   "metadata": {},
   "outputs": [
    {
     "data": {
      "text/plain": [
       "tensor([[7.2601e-01, 6.0587e-03, 4.0714e-01, 4.7610e+03, 7.2601e-01, 6.0587e-03,\n",
       "         4.0714e-01, 4.7610e+03, 7.2601e-01, 6.0587e-03, 4.0714e-01, 4.7610e+03],\n",
       "        [3.4400e-01, 6.2847e-01, 3.2664e-01, 4.7610e+03, 3.4400e-01, 6.2847e-01,\n",
       "         3.2664e-01, 4.7610e+03, 3.4400e-01, 6.2847e-01, 3.2664e-01, 4.7610e+03],\n",
       "        [1.8798e-01, 5.6565e-01, 6.6784e-02, 4.7610e+03, 1.8798e-01, 5.6565e-01,\n",
       "         6.6784e-02, 4.7610e+03, 1.8798e-01, 5.6565e-01, 6.6784e-02, 4.7610e+03]])"
      ]
     },
     "execution_count": 27,
     "metadata": {},
     "output_type": "execute_result"
    }
   ],
   "source": [
    "z1 = t1* t1\n",
    "z1"
   ]
  },
  {
   "cell_type": "code",
   "execution_count": 28,
   "id": "5be26540",
   "metadata": {},
   "outputs": [
    {
     "data": {
      "text/plain": [
       "tensor([[7.2601e-01, 6.0587e-03, 4.0714e-01, 4.7610e+03, 7.2601e-01, 6.0587e-03,\n",
       "         4.0714e-01, 4.7610e+03, 7.2601e-01, 6.0587e-03, 4.0714e-01, 4.7610e+03],\n",
       "        [3.4400e-01, 6.2847e-01, 3.2664e-01, 4.7610e+03, 3.4400e-01, 6.2847e-01,\n",
       "         3.2664e-01, 4.7610e+03, 3.4400e-01, 6.2847e-01, 3.2664e-01, 4.7610e+03],\n",
       "        [1.8798e-01, 5.6565e-01, 6.6784e-02, 4.7610e+03, 1.8798e-01, 5.6565e-01,\n",
       "         6.6784e-02, 4.7610e+03, 1.8798e-01, 5.6565e-01, 6.6784e-02, 4.7610e+03]])"
      ]
     },
     "execution_count": 28,
     "metadata": {},
     "output_type": "execute_result"
    }
   ],
   "source": [
    "z2 = t1.mul(t1)\n",
    "z2"
   ]
  },
  {
   "cell_type": "code",
   "execution_count": 29,
   "id": "364994b4",
   "metadata": {},
   "outputs": [
    {
     "data": {
      "text/plain": [
       "tensor([[7.2601e-01, 6.0587e-03, 4.0714e-01, 4.7610e+03, 7.2601e-01, 6.0587e-03,\n",
       "         4.0714e-01, 4.7610e+03, 7.2601e-01, 6.0587e-03, 4.0714e-01, 4.7610e+03],\n",
       "        [3.4400e-01, 6.2847e-01, 3.2664e-01, 4.7610e+03, 3.4400e-01, 6.2847e-01,\n",
       "         3.2664e-01, 4.7610e+03, 3.4400e-01, 6.2847e-01, 3.2664e-01, 4.7610e+03],\n",
       "        [1.8798e-01, 5.6565e-01, 6.6784e-02, 4.7610e+03, 1.8798e-01, 5.6565e-01,\n",
       "         6.6784e-02, 4.7610e+03, 1.8798e-01, 5.6565e-01, 6.6784e-02, 4.7610e+03]])"
      ]
     },
     "execution_count": 29,
     "metadata": {},
     "output_type": "execute_result"
    }
   ],
   "source": [
    "z3 = torch.rand_like(t1)\n",
    "torch.mul(t1,t1, out=z3)\n",
    "z3"
   ]
  },
  {
   "cell_type": "code",
   "execution_count": 19,
   "id": "bcdf7a45",
   "metadata": {},
   "outputs": [],
   "source": [
    "import torch\n",
    "from torch import nn\n",
    "from torch.utils.data import DataLoader\n",
    "from torchvision import datasets\n",
    "from torchvision.transforms import ToTensor, Lambda, Compose\n",
    "import matplotlib.pyplot as plt"
   ]
  },
  {
   "cell_type": "code",
   "execution_count": 31,
   "id": "e7d5c4e8",
   "metadata": {},
   "outputs": [
    {
     "data": {
      "text/plain": [
       "tensor(635.8886)"
      ]
     },
     "execution_count": 31,
     "metadata": {},
     "output_type": "execute_result"
    }
   ],
   "source": [
    "agg = t1.sum()\n",
    "agg"
   ]
  },
  {
   "cell_type": "code",
   "execution_count": 32,
   "id": "33ef1f8d",
   "metadata": {},
   "outputs": [
    {
     "name": "stdout",
     "output_type": "stream",
     "text": [
      "635.8886108398438 <class 'float'>\n"
     ]
    }
   ],
   "source": [
    "agg_item = agg.item()\n",
    "print(agg_item, type(agg_item))"
   ]
  },
  {
   "cell_type": "markdown",
   "id": "419e14cd",
   "metadata": {},
   "source": [
    "<h1>In place operations </h1>\n",
    "<h2> Operations that store the result into the operand are called in-place. They are denoted by a _ suffix. For example: x.copy_(y), x.t_(), will change x.</h2>"
   ]
  },
  {
   "cell_type": "code",
   "execution_count": 34,
   "id": "4f095453",
   "metadata": {},
   "outputs": [
    {
     "name": "stdout",
     "output_type": "stream",
     "text": [
      "tensor([[ 0.8521,  0.0778,  0.6381, 69.0000,  0.8521,  0.0778,  0.6381, 69.0000,\n",
      "          0.8521,  0.0778,  0.6381, 69.0000],\n",
      "        [ 0.5865,  0.7928,  0.5715, 69.0000,  0.5865,  0.7928,  0.5715, 69.0000,\n",
      "          0.5865,  0.7928,  0.5715, 69.0000],\n",
      "        [ 0.4336,  0.7521,  0.2584, 69.0000,  0.4336,  0.7521,  0.2584, 69.0000,\n",
      "          0.4336,  0.7521,  0.2584, 69.0000]]) /n\n",
      "tensor([[ 5.8521,  5.0778,  5.6381, 74.0000,  5.8521,  5.0778,  5.6381, 74.0000,\n",
      "          5.8521,  5.0778,  5.6381, 74.0000],\n",
      "        [ 5.5865,  5.7928,  5.5715, 74.0000,  5.5865,  5.7928,  5.5715, 74.0000,\n",
      "          5.5865,  5.7928,  5.5715, 74.0000],\n",
      "        [ 5.4336,  5.7521,  5.2584, 74.0000,  5.4336,  5.7521,  5.2584, 74.0000,\n",
      "          5.4336,  5.7521,  5.2584, 74.0000]])\n"
     ]
    }
   ],
   "source": [
    "print(t1, '/n')\n",
    "t1.add_(5)\n",
    "print(t1)"
   ]
  },
  {
   "cell_type": "markdown",
   "id": "9058f597",
   "metadata": {},
   "source": [
    "<h1>Datasets and Data Loaders </h1>\n",
    "<h3>Datasets stores the samples and their corresponding labels</h3>\n",
    "<h3>Dataloader wraps an iterable around the Dataset </h3>"
   ]
  },
  {
   "cell_type": "code",
   "execution_count": 36,
   "id": "d80a2255",
   "metadata": {},
   "outputs": [],
   "source": [
    "import torch\n",
    "from torch import nn\n",
    "from torch.utils.data import DataLoader\n",
    "from torchvision import datasets\n",
    "from torchvision.transforms import ToTensor, Lambda, Compose\n",
    "import matplotlib.pyplot as plt\n",
    "from torch.utils.data import Dataset\n"
   ]
  },
  {
   "cell_type": "code",
   "execution_count": 38,
   "id": "1dd828ca",
   "metadata": {},
   "outputs": [
    {
     "name": "stdout",
     "output_type": "stream",
     "text": [
      "Downloading http://fashion-mnist.s3-website.eu-central-1.amazonaws.com/train-images-idx3-ubyte.gz\n",
      "Downloading http://fashion-mnist.s3-website.eu-central-1.amazonaws.com/train-images-idx3-ubyte.gz to data/FashionMNIST/raw/train-images-idx3-ubyte.gz\n"
     ]
    },
    {
     "data": {
      "application/vnd.jupyter.widget-view+json": {
       "model_id": "fc742392b8154db7a8e9688b0659edb9",
       "version_major": 2,
       "version_minor": 0
      },
      "text/plain": [
       "  0%|          | 0/26421880 [00:00<?, ?it/s]"
      ]
     },
     "metadata": {},
     "output_type": "display_data"
    },
    {
     "name": "stdout",
     "output_type": "stream",
     "text": [
      "Extracting data/FashionMNIST/raw/train-images-idx3-ubyte.gz to data/FashionMNIST/raw\n",
      "\n",
      "Downloading http://fashion-mnist.s3-website.eu-central-1.amazonaws.com/train-labels-idx1-ubyte.gz\n",
      "Downloading http://fashion-mnist.s3-website.eu-central-1.amazonaws.com/train-labels-idx1-ubyte.gz to data/FashionMNIST/raw/train-labels-idx1-ubyte.gz\n"
     ]
    },
    {
     "data": {
      "application/vnd.jupyter.widget-view+json": {
       "model_id": "0b00c91f52fd4455bae7426e6eb265e4",
       "version_major": 2,
       "version_minor": 0
      },
      "text/plain": [
       "  0%|          | 0/29515 [00:00<?, ?it/s]"
      ]
     },
     "metadata": {},
     "output_type": "display_data"
    },
    {
     "name": "stdout",
     "output_type": "stream",
     "text": [
      "Extracting data/FashionMNIST/raw/train-labels-idx1-ubyte.gz to data/FashionMNIST/raw\n",
      "\n",
      "Downloading http://fashion-mnist.s3-website.eu-central-1.amazonaws.com/t10k-images-idx3-ubyte.gz\n",
      "Downloading http://fashion-mnist.s3-website.eu-central-1.amazonaws.com/t10k-images-idx3-ubyte.gz to data/FashionMNIST/raw/t10k-images-idx3-ubyte.gz\n"
     ]
    },
    {
     "data": {
      "application/vnd.jupyter.widget-view+json": {
       "model_id": "afe59d5a902d49e38e93449fee6fa1f3",
       "version_major": 2,
       "version_minor": 0
      },
      "text/plain": [
       "  0%|          | 0/4422102 [00:00<?, ?it/s]"
      ]
     },
     "metadata": {},
     "output_type": "display_data"
    },
    {
     "name": "stdout",
     "output_type": "stream",
     "text": [
      "Extracting data/FashionMNIST/raw/t10k-images-idx3-ubyte.gz to data/FashionMNIST/raw\n",
      "\n",
      "Downloading http://fashion-mnist.s3-website.eu-central-1.amazonaws.com/t10k-labels-idx1-ubyte.gz\n",
      "Downloading http://fashion-mnist.s3-website.eu-central-1.amazonaws.com/t10k-labels-idx1-ubyte.gz to data/FashionMNIST/raw/t10k-labels-idx1-ubyte.gz\n"
     ]
    },
    {
     "data": {
      "application/vnd.jupyter.widget-view+json": {
       "model_id": "3e3efaa9ee8247f5a96846d4ec3271d6",
       "version_major": 2,
       "version_minor": 0
      },
      "text/plain": [
       "  0%|          | 0/5148 [00:00<?, ?it/s]"
      ]
     },
     "metadata": {},
     "output_type": "display_data"
    },
    {
     "name": "stdout",
     "output_type": "stream",
     "text": [
      "Extracting data/FashionMNIST/raw/t10k-labels-idx1-ubyte.gz to data/FashionMNIST/raw\n",
      "\n"
     ]
    }
   ],
   "source": [
    "training_data = datasets.FashionMNIST(\n",
    "                root = 'data',\n",
    "                train = True,\n",
    "                download = True,\n",
    "                transform = ToTensor())"
   ]
  },
  {
   "cell_type": "code",
   "execution_count": 41,
   "id": "7740f287",
   "metadata": {},
   "outputs": [],
   "source": [
    "test_data = datasets.FashionMNIST(\n",
    "            root = 'data',\n",
    "            train = False,\n",
    "            download = True,\n",
    "            transform = ToTensor()\n",
    "            )"
   ]
  },
  {
   "cell_type": "code",
   "execution_count": 42,
   "id": "3e128082",
   "metadata": {},
   "outputs": [
    {
     "data": {
      "text/plain": [
       "Dataset FashionMNIST\n",
       "    Number of datapoints: 10000\n",
       "    Root location: data\n",
       "    Split: Test\n",
       "    StandardTransform\n",
       "Transform: ToTensor()"
      ]
     },
     "execution_count": 42,
     "metadata": {},
     "output_type": "execute_result"
    }
   ],
   "source": [
    "test_data"
   ]
  },
  {
   "cell_type": "markdown",
   "id": "4d3855b3",
   "metadata": {},
   "source": [
    "<h2>Iterating and Visualizing the Dataset</h2>"
   ]
  },
  {
   "cell_type": "code",
   "execution_count": 3,
   "id": "8b9614a7",
   "metadata": {},
   "outputs": [],
   "source": [
    "a = 1"
   ]
  },
  {
   "cell_type": "code",
   "execution_count": 4,
   "id": "c550b97d",
   "metadata": {},
   "outputs": [
    {
     "data": {
      "text/plain": [
       "4"
      ]
     },
     "execution_count": 4,
     "metadata": {},
     "output_type": "execute_result"
    }
   ],
   "source": [
    "a+3"
   ]
  },
  {
   "cell_type": "code",
   "execution_count": null,
   "id": "bfda1ae8",
   "metadata": {},
   "outputs": [],
   "source": []
  },
  {
   "cell_type": "code",
   "execution_count": null,
   "id": "93f08300",
   "metadata": {},
   "outputs": [],
   "source": []
  }
 ],
 "metadata": {
  "kernelspec": {
   "display_name": "Python 3",
   "language": "python",
   "name": "python3"
  },
  "language_info": {
   "codemirror_mode": {
    "name": "ipython",
    "version": 3
   },
   "file_extension": ".py",
   "mimetype": "text/x-python",
   "name": "python",
   "nbconvert_exporter": "python",
   "pygments_lexer": "ipython3",
   "version": "3.8.8"
  }
 },
 "nbformat": 4,
 "nbformat_minor": 5
}
